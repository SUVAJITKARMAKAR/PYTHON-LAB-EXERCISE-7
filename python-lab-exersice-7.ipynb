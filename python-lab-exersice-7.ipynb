{
 "cells": [
  {
   "cell_type": "markdown",
   "metadata": {},
   "source": [
    "# LAB-EXERCISE-7"
   ]
  },
  {
   "cell_type": "markdown",
   "metadata": {},
   "source": [
    "#### Create two 3×3 matrices using the random function in Numpy and perform the following operations.\n",
    "- Product (prod)\n",
    "- Multiplication (multiply)\n",
    "- Dot Product (dot)"
   ]
  },
  {
   "cell_type": "code",
   "execution_count": 11,
   "metadata": {},
   "outputs": [
    {
     "name": "stdout",
     "output_type": "stream",
     "text": [
      "MATRIX-1:\n",
      "[[ 1 27  8]\n",
      " [ 7 13  4]\n",
      " [11 16 10]]\n",
      "\n",
      "MATRIX-2:\n",
      "[[ 5 22 23]\n",
      " [ 7 19  8]\n",
      " [ 7  2 24]]\n",
      "\n",
      "PRODUCT OF MATRIX 1:\n",
      "[[  5 594 184]\n",
      " [ 49 247  32]\n",
      " [ 77  32 240]]\n",
      "\n",
      "MULTIPLICATION :\n",
      "[[  5 594 184]\n",
      " [ 49 247  32]\n",
      " [ 77  32 240]]\n",
      "\n",
      "DOT PRODUCT :\n",
      "[[250 551 431]\n",
      " [154 409 361]\n",
      " [237 566 621]]\n"
     ]
    }
   ],
   "source": [
    "import numpy as np\n",
    "\n",
    "# CREATING MARTIX 3 X 3 \n",
    "__martix_1__ = np.random.randint(30, size=(3,3))\n",
    "__martix_2__ = np.random.randint(30, size=(3, 3))\n",
    "\n",
    "# PERFORMING THE SPECIFIED OPERATIONS \n",
    "product_result = np.prod([__martix_1__,__martix_2__], axis=0)  \n",
    "multiply_result = np.multiply(__martix_1__, __martix_2__)  \n",
    "dot_product_result = np.dot(__martix_1__, __martix_2__) \n",
    "\n",
    "print(\"MATRIX-1:\")\n",
    "print(__martix_1__)\n",
    "print(\"\\nMATRIX-2:\")\n",
    "print(__martix_2__)\n",
    "\n",
    "print(\"\\nPRODUCT OF MATRIX 1:\")\n",
    "print(product_result)\n",
    "\n",
    "print(\"\\nMULTIPLICATION :\")\n",
    "print(multiply_result)\n",
    "\n",
    "print(\"\\nDOT PRODUCT :\")\n",
    "print(dot_product_result)\n"
   ]
  },
  {
   "cell_type": "markdown",
   "metadata": {},
   "source": [
    "#### Perform the following set operations using the Numpy functions.\n",
    "- Union\n",
    "- Intersection\n",
    "- Set difference\n",
    "- XOR"
   ]
  },
  {
   "cell_type": "code",
   "execution_count": 3,
   "metadata": {},
   "outputs": [
    {
     "name": "stdout",
     "output_type": "stream",
     "text": [
      "SET-1 : [1 2 3 4 5]\n",
      "SET-2 : [3 4 5 6 7]\n",
      "\n",
      "UNION : [1 2 3 4 5 6 7]\n",
      "INTERSECTION : [3 4 5]\n",
      "SET DIFFERECE (SET-1 - SET-2): [1 2]\n",
      "XOR : [1 2 6 7]\n"
     ]
    }
   ],
   "source": [
    "import numpy as np\n",
    "\n",
    "# Create two NumPy arrays as sets\n",
    "set1 = np.array([1, 2, 3, 4, 5])\n",
    "set2 = np.array([3, 4, 5, 6, 7])\n",
    "\n",
    "# Union\n",
    "union_result = np.union1d(set1, set2)\n",
    "\n",
    "# Intersection\n",
    "intersection_result = np.intersect1d(set1, set2)\n",
    "\n",
    "# Set difference (set1 - set2)\n",
    "set_difference_result = np.setdiff1d(set1, set2)\n",
    "\n",
    "# XOR \n",
    "xor_result = np.setxor1d(set1, set2)\n",
    "\n",
    "print(\"SET-1 :\", set1)\n",
    "print(\"SET-2 :\", set2)\n",
    "\n",
    "print(\"\\nUNION :\", union_result)\n",
    "print(\"INTERSECTION :\", intersection_result)\n",
    "print(\"SET DIFFERECE (SET-1 - SET-2):\", set_difference_result)\n",
    "print(\"XOR :\", xor_result)\n"
   ]
  },
  {
   "cell_type": "markdown",
   "metadata": {},
   "source": [
    "#### Create a 1D array using Random function and perform the following operations.\n",
    "- Cumulative sum\n",
    "- Cumulative Product\n",
    "- Discrete difference (with n=3)\n",
    "- Find the unique elements from the array"
   ]
  },
  {
   "cell_type": "code",
   "execution_count": 12,
   "metadata": {},
   "outputs": [
    {
     "name": "stdout",
     "output_type": "stream",
     "text": [
      "RANDOM ARRAY :\n",
      "[22 40 23 16 26]\n",
      "\n",
      "CUMMULITIVE SUM :\n",
      "[ 22  62  85 101 127]\n",
      "\n",
      "CUMMILITIVE PRODUCT :\n",
      "[     22     880   20240  323840 8419840]\n",
      "\n",
      "DISCREATE DIFFEREnCE:\n",
      "[45  7]\n",
      "\n",
      "UNIQUE ELEMENTS :\n",
      "[16 22 23 26 40]\n"
     ]
    }
   ],
   "source": [
    "import numpy as np\n",
    "\n",
    "# Create a random 1D array with 10 elements\n",
    "random_array = np.random.randint(50, size=(5))\n",
    "\n",
    "# Cumulative sum\n",
    "cumulative_sum = np.cumsum(random_array)\n",
    "\n",
    "# Cumulative product\n",
    "cumulative_product = np.cumprod(random_array)\n",
    "\n",
    "# Discrete difference with n=3\n",
    "discrete_difference = np.diff(random_array, n=3)\n",
    "\n",
    "# Find unique elements\n",
    "unique_elements = np.unique(random_array)\n",
    "\n",
    "print(\"RANDOM ARRAY :\")\n",
    "print(random_array)\n",
    "\n",
    "print(\"\\nCUMMULITIVE SUM :\")\n",
    "print(cumulative_sum)\n",
    "\n",
    "print(\"\\nCUMMILITIVE PRODUCT :\")\n",
    "print(cumulative_product)\n",
    "\n",
    "print(\"\\nDISCREATE DIFFERENCE:\")\n",
    "print(discrete_difference)\n",
    "\n",
    "print(\"\\nUNIQUE ELEMENTS :\")\n",
    "print(unique_elements)\n"
   ]
  },
  {
   "cell_type": "markdown",
   "metadata": {},
   "source": [
    "#### Create two 1D array and perform the Addition using zip(), add() and user defined function (frompyfunc()) "
   ]
  },
  {
   "cell_type": "code",
   "execution_count": 17,
   "metadata": {},
   "outputs": [
    {
     "name": "stdout",
     "output_type": "stream",
     "text": [
      "ZIPPED ARRAY OF X AND Y :    [61, 77, 92, 118]\n",
      "ADDITION OF TWO ARRAYS ARE :  [141 104 104 142]\n",
      "USER DEFINIED FUNCTIONS   [6 8 10 12]\n"
     ]
    }
   ],
   "source": [
    "x = [12, 24, 30, 41]\n",
    "y = [49, 53, 62, 77]\n",
    "z = []\n",
    "\n",
    "for i, j in zip(x, y):\n",
    "  z.append(i + j)\n",
    "print(\"ZIPPED ARRAY OF X AND Y :   \",z)\n",
    "\n",
    "x = [91, 42, 33, 54]\n",
    "y = [50, 62, 71 ,88]\n",
    "res = np.add(x, y)\n",
    "print(\"ADDITION OF TWO ARRAYS ARE : \",res)\n",
    "\n",
    "\n",
    "def myadd(x, y):\n",
    "  return x+y\n",
    "\n",
    "myadd = np.frompyfunc(myadd, 2, 1)\n",
    "\n",
    "print(\"USER DEFINIED FUNCTIONS  \",myadd([1, 2, 3, 4], [5, 6, 7, 8]))\n"
   ]
  },
  {
   "cell_type": "markdown",
   "metadata": {},
   "source": [
    "#### Find the LCM (Least Common Multiple) and GCD (Greatest Common Divisor) of an array of elements using reduce().\n"
   ]
  },
  {
   "cell_type": "code",
   "execution_count": 15,
   "metadata": {},
   "outputs": [
    {
     "name": "stdout",
     "output_type": "stream",
     "text": [
      "GCD OF THE ARRAY ELEMENT : 6\n",
      "LCM OF THE ARRAY ELEMENT : 72\n"
     ]
    }
   ],
   "source": [
    "import numpy as np\n",
    "from functools import reduce\n",
    "\n",
    "# Define a function to calculate the GCD of two numbers\n",
    "def gcd(x, y):\n",
    "    while y != 0:\n",
    "        x, y = y, x % y\n",
    "    return x\n",
    "\n",
    "# Define a function to calculate the LCM of two numbers\n",
    "def lcm(x, y):\n",
    "    return x * y // gcd(x, y)\n",
    "\n",
    "# Define an array of elements\n",
    "arr = np.array([12, 18, 24, 36])\n",
    "\n",
    "# Calculate the GCD of the array elements using reduce\n",
    "gcd_result = reduce(gcd, arr)\n",
    "\n",
    "# Calculate the LCM of the array elements using reduce\n",
    "lcm_result = reduce(lcm, arr)\n",
    "\n",
    "# Print the results\n",
    "print(f\"GCD OF THE ARRAY ELEMENT : {gcd_result}\")\n",
    "print(f\"LCM OF THE ARRAY ELEMENT : {lcm_result}\")\n",
    "\n"
   ]
  }
 ],
 "metadata": {
  "kernelspec": {
   "display_name": "Python 3",
   "language": "python",
   "name": "python3"
  },
  "language_info": {
   "codemirror_mode": {
    "name": "ipython",
    "version": 3
   },
   "file_extension": ".py",
   "mimetype": "text/x-python",
   "name": "python",
   "nbconvert_exporter": "python",
   "pygments_lexer": "ipython3",
   "version": "3.10.12"
  },
  "orig_nbformat": 4
 },
 "nbformat": 4,
 "nbformat_minor": 2
}
